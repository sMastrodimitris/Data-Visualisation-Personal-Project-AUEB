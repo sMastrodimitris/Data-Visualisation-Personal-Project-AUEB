{
 "cells": [
  {
   "cell_type": "code",
   "execution_count": 12,
   "id": "76427c95",
   "metadata": {},
   "outputs": [
    {
     "name": "stdout",
     "output_type": "stream",
     "text": [
      "    geo  TIME_PERIOD  POPULATION  GDP_per_Capita  DEMENTIA DEATHS  DEATHS  \\\n",
      "0    AT         2011     8375164           36300              266   62665   \n",
      "1    AT         2012     8408121           36390              541   65819   \n",
      "2    AT         2013     8451860           36180              938   66125   \n",
      "3    AT         2014     8507786           36130              894   65132   \n",
      "4    AT         2015     8584926           36140             1109   69962   \n",
      "..   ..          ...         ...             ...              ...     ...   \n",
      "285  SK         2016     5426252           14590              698   38624   \n",
      "286  SK         2017     5435343           15000              537   40127   \n",
      "287  SK         2018     5443120           15580              601   40576   \n",
      "288  SK         2019     5450421           15950              543   39972   \n",
      "289  SK         2020     5457873           15400              521   45641   \n",
      "\n",
      "     DEMENTIA_DEATHS per 100K DEATHS  \n",
      "0                                424  \n",
      "1                                821  \n",
      "2                               1418  \n",
      "3                               1372  \n",
      "4                               1585  \n",
      "..                               ...  \n",
      "285                             1807  \n",
      "286                             1338  \n",
      "287                             1481  \n",
      "288                             1358  \n",
      "289                             1141  \n",
      "\n",
      "[290 rows x 7 columns]\n"
     ]
    }
   ],
   "source": [
    "import pandas as pd\n",
    "\n",
    "# Read the CSV files\n",
    "pop_df = pd.read_csv(\"pop.csv\")\n",
    "gdp_df = pd.read_csv(\"GDPpC.csv\")\n",
    "dementia_df = pd.read_csv(\"d.csv\")\n",
    "deaths_df = pd.read_csv(\"all.csv\")\n",
    "\n",
    "# Select the desired columns from each DataFrame\n",
    "pop_df = pop_df[['geo', 'TIME_PERIOD', 'POPULATION']]\n",
    "gdp_df = gdp_df[['geo', 'TIME_PERIOD', 'GDP_per_Capita']]\n",
    "dementia_df = dementia_df[['geo', 'TIME_PERIOD', 'DEMENTIA DEATHS']]\n",
    "deaths_df = deaths_df[['geo', 'TIME_PERIOD', 'DEATHS']]\n",
    "\n",
    "# Merge the DataFrames based on 'geo' and 'TIME_PERIOD' columns\n",
    "merged_df = pd.merge(pop_df, gdp_df, on=['geo', 'TIME_PERIOD'])\n",
    "merged_df = pd.merge(merged_df, dementia_df, on=['geo', 'TIME_PERIOD'])\n",
    "merged_df = pd.merge(merged_df, deaths_df, on=['geo', 'TIME_PERIOD'])\n",
    "\n",
    "# Rename the columns to match the desired order\n",
    "merged_df.columns = ['geo', 'TIME_PERIOD', 'POPULATION', 'GDP_per_Capita', 'DEMENTIA DEATHS', 'DEATHS']\n",
    "\n",
    "merged_df['DEMENTIA_DEATHS per 100K DEATHS'] = merged_df['DEMENTIA DEATHS'] / merged_df['DEATHS']*100000\n",
    "\n",
    "# Convert the DEMENTIA_DEATHS_RATIO column to integers\n",
    "merged_df['DEMENTIA_DEATHS per 100K DEATHS'] = merged_df['DEMENTIA_DEATHS per 100K DEATHS'].astype(int)\n",
    "\n",
    "\n",
    "# Print the resulting DataFrame\n",
    "print(merged_df)"
   ]
  },
  {
   "cell_type": "code",
   "execution_count": 15,
   "id": "ed324e6e",
   "metadata": {},
   "outputs": [],
   "source": [
    "merged_df.to_csv(\"merged_data.csv\", index=False)"
   ]
  },
  {
   "cell_type": "code",
   "execution_count": null,
   "id": "2eb69f3a",
   "metadata": {},
   "outputs": [],
   "source": []
  }
 ],
 "metadata": {
  "kernelspec": {
   "display_name": "Python 3 (ipykernel)",
   "language": "python",
   "name": "python3"
  },
  "language_info": {
   "codemirror_mode": {
    "name": "ipython",
    "version": 3
   },
   "file_extension": ".py",
   "mimetype": "text/x-python",
   "name": "python",
   "nbconvert_exporter": "python",
   "pygments_lexer": "ipython3",
   "version": "3.9.12"
  }
 },
 "nbformat": 4,
 "nbformat_minor": 5
}
